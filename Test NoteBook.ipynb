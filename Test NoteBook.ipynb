{
 "cells": [
  {
   "cell_type": "code",
   "execution_count": 1,
   "metadata": {},
   "outputs": [
    {
     "name": "stdout",
     "output_type": "stream",
     "text": [
      "Hello, world! I'm ready to learn Data Science.\n"
     ]
    }
   ],
   "source": [
    "#Print ready\n",
    "print(\"Hello, world! I'm ready to learn Data Science.\")"
   ]
  }
 ],
 "metadata": {
  "kernelspec": {
   "display_name": "Python 3",
   "language": "python",
   "name": "python3"
  },
  "language_info": {
   "codemirror_mode": {
    "name": "ipython",
    "version": 3
   },
   "file_extension": ".py",
   "mimetype": "text/x-python",
   "name": "python",
   "nbconvert_exporter": "python",
   "pygments_lexer": "ipython3",
   "version": "3.10.10"
  },
  "orig_nbformat": 4,
  "vscode": {
   "interpreter": {
    "hash": "b828dfd4506b2e1aa71397299e731c66a539bdd537355f60add9e3773ab39bad"
   }
  }
 },
 "nbformat": 4,
 "nbformat_minor": 2
}
