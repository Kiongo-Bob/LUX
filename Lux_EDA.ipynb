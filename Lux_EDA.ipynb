{
  "nbformat": 4,
  "nbformat_minor": 0,
  "metadata": {
    "colab": {
      "provenance": [],
      "authorship_tag": "ABX9TyMQJ+v95WPl9k+Rxj/aq1Pc",
      "include_colab_link": true
    },
    "kernelspec": {
      "name": "python3",
      "display_name": "Python 3"
    },
    "language_info": {
      "name": "python"
    }
  },
  "cells": [
    {
      "cell_type": "markdown",
      "metadata": {
        "id": "view-in-github",
        "colab_type": "text"
      },
      "source": [
        "<a href=\"https://colab.research.google.com/github/Kiongo-Bob/LUX/blob/main/Lux_EDA.ipynb\" target=\"_parent\"><img src=\"https://colab.research.google.com/assets/colab-badge.svg\" alt=\"Open In Colab\"/></a>"
      ]
    },
    {
      "cell_type": "code",
      "execution_count": 5,
      "metadata": {
        "id": "mF3KRoR1EdSX"
      },
      "outputs": [],
      "source": [
        "#Import dependencies\n",
        "import numpy as np\n",
        "import matplotlib.pyplot as plt\n",
        "import pandas as pd"
      ]
    },
    {
      "cell_type": "code",
      "source": [
        "#Read the CSV file on which to perform EDA\n",
        "data = pd.read_csv(\"/IT Salary Survey EU 2018.csv\")"
      ],
      "metadata": {
        "id": "5Q3Zp49TE_Eg"
      },
      "execution_count": 6,
      "outputs": []
    },
    {
      "cell_type": "code",
      "source": [
        "#Display the first row\n",
        "print(data.head())"
      ],
      "metadata": {
        "colab": {
          "base_uri": "https://localhost:8080/"
        },
        "id": "gyCy6BOkHMus",
        "outputId": "048cba81-5e4a-4a0b-b7aa-f78a788ec4db"
      },
      "execution_count": 7,
      "outputs": [
        {
          "output_type": "stream",
          "name": "stdout",
          "text": [
            "             Timestamp   Age Gender     City                       Position  \\\n",
            "0  14/12/2018 12:41:33  43.0      M  München                   QA Ingenieur   \n",
            "1  14/12/2018 12:42:09  33.0      F  München  Senior PHP Magento developer    \n",
            "2  14/12/2018 12:47:36  32.0      M  München              Software Engineer   \n",
            "3  14/12/2018 12:50:15  25.0      M  München      Senior Frontend Developer   \n",
            "4  14/12/2018 12:50:31  39.0      M  München                    UX Designer   \n",
            "\n",
            "   Years of experience Your level  Current Salary  Salary one year ago  \\\n",
            "0                 11.0     Senior         77000.0              76200.0   \n",
            "1                  8.0     Senior         65000.0              55000.0   \n",
            "2                 10.0     Senior         88000.0              73000.0   \n",
            "3                  6.0     Senior         78000.0              55000.0   \n",
            "4                 10.0     Senior         69000.0              60000.0   \n",
            "\n",
            "   Salary two years ago Are you getting any Stock Options?  \\\n",
            "0               68000.0                                 No   \n",
            "1               55000.0                                 No   \n",
            "2               54000.0                                 No   \n",
            "3               45000.0                                Yes   \n",
            "4               52000.0                                 No   \n",
            "\n",
            "  Main language at work Company size   Company type  \n",
            "0               Deutsch     100-1000        Product  \n",
            "1               Deutsch       50-100        Product  \n",
            "2               Deutsch        1000+        Product  \n",
            "3               English        1000+        Product  \n",
            "4               English     100-1000  Ecom retailer  \n"
          ]
        }
      ]
    },
    {
      "cell_type": "code",
      "source": [
        "#Show duplicate employees\n",
        "print(data.duplicated())\n"
      ],
      "metadata": {
        "colab": {
          "base_uri": "https://localhost:8080/"
        },
        "id": "8rLiIwruIkHZ",
        "outputId": "c9cc73bb-5ce9-4650-9a3d-375f8d987b2b"
      },
      "execution_count": 8,
      "outputs": [
        {
          "output_type": "stream",
          "name": "stdout",
          "text": [
            "0      False\n",
            "1      False\n",
            "2      False\n",
            "3      False\n",
            "4      False\n",
            "       ...  \n",
            "760    False\n",
            "761    False\n",
            "762    False\n",
            "763    False\n",
            "764    False\n",
            "Length: 765, dtype: bool\n"
          ]
        }
      ]
    },
    {
      "cell_type": "code",
      "source": [
        "#Getting number of rows and colums of data\n",
        "data_shape = (data.shape)\n",
        "rows = data_shape[0]\n",
        "columns = data.shape[1]\n",
        "print(f\"There are {rows} rows and {columns} columns.\")\n"
      ],
      "metadata": {
        "colab": {
          "base_uri": "https://localhost:8080/"
        },
        "id": "QCTZvlr-Ij-F",
        "outputId": "d3cbce14-6192-4a3c-9cd0-2d7237f0571d"
      },
      "execution_count": 9,
      "outputs": [
        {
          "output_type": "stream",
          "name": "stdout",
          "text": [
            "There are 765 rows and 14 columns.\n"
          ]
        }
      ]
    },
    {
      "cell_type": "code",
      "source": [
        "print(data.info)"
      ],
      "metadata": {
        "colab": {
          "base_uri": "https://localhost:8080/"
        },
        "id": "wCtbJ4jaIjte",
        "outputId": "ebe8f0d6-5a6d-484a-ed26-3d0ea8596077"
      },
      "execution_count": 10,
      "outputs": [
        {
          "output_type": "stream",
          "name": "stdout",
          "text": [
            "<bound method DataFrame.info of                Timestamp   Age Gender     City                       Position  \\\n",
            "0    14/12/2018 12:41:33  43.0      M  München                   QA Ingenieur   \n",
            "1    14/12/2018 12:42:09  33.0      F  München  Senior PHP Magento developer    \n",
            "2    14/12/2018 12:47:36  32.0      M  München              Software Engineer   \n",
            "3    14/12/2018 12:50:15  25.0      M  München      Senior Frontend Developer   \n",
            "4    14/12/2018 12:50:31  39.0      M  München                    UX Designer   \n",
            "..                   ...   ...    ...      ...                            ...   \n",
            "760  03/06/2020 20:12:51  40.0      M     Köln          Java Developer junior   \n",
            "761  28/07/2020 04:03:13   NaN      M     Köln              E.g. C# Developer   \n",
            "762  28/07/2020 04:03:20   NaN      M     Köln              E.g. C# Developer   \n",
            "763  26/08/2020 09:06:44   NaN    NaN      NaN                            NaN   \n",
            "764  21/09/2020 01:47:10  31.0      F  München                            Pm    \n",
            "\n",
            "     Years of experience Your level  Current Salary  Salary one year ago  \\\n",
            "0                   11.0     Senior         77000.0              76200.0   \n",
            "1                    8.0     Senior         65000.0              55000.0   \n",
            "2                   10.0     Senior         88000.0              73000.0   \n",
            "3                    6.0     Senior         78000.0              55000.0   \n",
            "4                   10.0     Senior         69000.0              60000.0   \n",
            "..                   ...        ...             ...                  ...   \n",
            "760                  1.0     Junior         44000.0              40000.0   \n",
            "761                  1.0     Junior         45000.0              40000.0   \n",
            "762                  1.0     Junior         45000.0              40000.0   \n",
            "763                  NaN        NaN             NaN                  NaN   \n",
            "764                 10.0     Senior        110000.0                  NaN   \n",
            "\n",
            "     Salary two years ago Are you getting any Stock Options?  \\\n",
            "0                 68000.0                                 No   \n",
            "1                 55000.0                                 No   \n",
            "2                 54000.0                                 No   \n",
            "3                 45000.0                                Yes   \n",
            "4                 52000.0                                 No   \n",
            "..                    ...                                ...   \n",
            "760               40000.0                                Yes   \n",
            "761               40000.0                                Yes   \n",
            "762               40000.0                                Yes   \n",
            "763                   NaN                                NaN   \n",
            "764                   NaN                                 No   \n",
            "\n",
            "    Main language at work Company size   Company type  \n",
            "0                 Deutsch     100-1000        Product  \n",
            "1                 Deutsch       50-100        Product  \n",
            "2                 Deutsch        1000+        Product  \n",
            "3                 English        1000+        Product  \n",
            "4                 English     100-1000  Ecom retailer  \n",
            "..                    ...          ...            ...  \n",
            "760               Deutsch        10-50        Product  \n",
            "761               Deutsch        10-50        Product  \n",
            "762               Deutsch        10-50        Product  \n",
            "763                   NaN          NaN            NaN  \n",
            "764               English        1000+        Product  \n",
            "\n",
            "[765 rows x 14 columns]>\n"
          ]
        }
      ]
    },
    {
      "cell_type": "code",
      "source": [
        "data.describe"
      ],
      "metadata": {
        "colab": {
          "base_uri": "https://localhost:8080/"
        },
        "id": "VFfb6X2IRZlm",
        "outputId": "c1f959a1-6c89-4cf3-94e5-aed097f43776"
      },
      "execution_count": 11,
      "outputs": [
        {
          "output_type": "execute_result",
          "data": {
            "text/plain": [
              "<bound method NDFrame.describe of                Timestamp   Age Gender     City                       Position  \\\n",
              "0    14/12/2018 12:41:33  43.0      M  München                   QA Ingenieur   \n",
              "1    14/12/2018 12:42:09  33.0      F  München  Senior PHP Magento developer    \n",
              "2    14/12/2018 12:47:36  32.0      M  München              Software Engineer   \n",
              "3    14/12/2018 12:50:15  25.0      M  München      Senior Frontend Developer   \n",
              "4    14/12/2018 12:50:31  39.0      M  München                    UX Designer   \n",
              "..                   ...   ...    ...      ...                            ...   \n",
              "760  03/06/2020 20:12:51  40.0      M     Köln          Java Developer junior   \n",
              "761  28/07/2020 04:03:13   NaN      M     Köln              E.g. C# Developer   \n",
              "762  28/07/2020 04:03:20   NaN      M     Köln              E.g. C# Developer   \n",
              "763  26/08/2020 09:06:44   NaN    NaN      NaN                            NaN   \n",
              "764  21/09/2020 01:47:10  31.0      F  München                            Pm    \n",
              "\n",
              "     Years of experience Your level  Current Salary  Salary one year ago  \\\n",
              "0                   11.0     Senior         77000.0              76200.0   \n",
              "1                    8.0     Senior         65000.0              55000.0   \n",
              "2                   10.0     Senior         88000.0              73000.0   \n",
              "3                    6.0     Senior         78000.0              55000.0   \n",
              "4                   10.0     Senior         69000.0              60000.0   \n",
              "..                   ...        ...             ...                  ...   \n",
              "760                  1.0     Junior         44000.0              40000.0   \n",
              "761                  1.0     Junior         45000.0              40000.0   \n",
              "762                  1.0     Junior         45000.0              40000.0   \n",
              "763                  NaN        NaN             NaN                  NaN   \n",
              "764                 10.0     Senior        110000.0                  NaN   \n",
              "\n",
              "     Salary two years ago Are you getting any Stock Options?  \\\n",
              "0                 68000.0                                 No   \n",
              "1                 55000.0                                 No   \n",
              "2                 54000.0                                 No   \n",
              "3                 45000.0                                Yes   \n",
              "4                 52000.0                                 No   \n",
              "..                    ...                                ...   \n",
              "760               40000.0                                Yes   \n",
              "761               40000.0                                Yes   \n",
              "762               40000.0                                Yes   \n",
              "763                   NaN                                NaN   \n",
              "764                   NaN                                 No   \n",
              "\n",
              "    Main language at work Company size   Company type  \n",
              "0                 Deutsch     100-1000        Product  \n",
              "1                 Deutsch       50-100        Product  \n",
              "2                 Deutsch        1000+        Product  \n",
              "3                 English        1000+        Product  \n",
              "4                 English     100-1000  Ecom retailer  \n",
              "..                    ...          ...            ...  \n",
              "760               Deutsch        10-50        Product  \n",
              "761               Deutsch        10-50        Product  \n",
              "762               Deutsch        10-50        Product  \n",
              "763                   NaN          NaN            NaN  \n",
              "764               English        1000+        Product  \n",
              "\n",
              "[765 rows x 14 columns]>"
            ]
          },
          "metadata": {},
          "execution_count": 11
        }
      ]
    },
    {
      "cell_type": "code",
      "source": [
        "mean_salary = data[\"Current Salary\"].mean()\n",
        "rounded_mean_salary = round(mean_salary, 2)\n",
        "print(f\"The average salary is {rounded_mean_salary}.\")"
      ],
      "metadata": {
        "colab": {
          "base_uri": "https://localhost:8080/"
        },
        "id": "A4Tq6y1tRbEr",
        "outputId": "ff01051a-8f90-4d37-887c-8b52007fccfc"
      },
      "execution_count": 14,
      "outputs": [
        {
          "output_type": "stream",
          "name": "stdout",
          "text": [
            "The average salary is 68381.77.\n"
          ]
        }
      ]
    }
  ]
}