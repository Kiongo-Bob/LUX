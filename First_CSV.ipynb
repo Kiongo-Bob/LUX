{
  "cells": [
    {
      "cell_type": "code",
      "execution_count": 2,
      "metadata": {
        "colab": {
          "base_uri": "https://localhost:8080/"
        },
        "id": "QnpZn97JiHWZ",
        "outputId": "4c0de924-b82b-4ab2-bb92-ba8cbb45c525"
      },
      "outputs": [
        {
          "name": "stdout",
          "output_type": "stream",
          "text": [
            "102\n"
          ]
        }
      ],
      "source": [
        "#Import dependencies\n",
        "import pandas as pd\n",
        "from tqdm.notebook import tqdm\n",
        "import snscrape.modules.twitter as sntwitter\n",
        "\n",
        "scrapper = sntwitter.TwitterSearchScraper(\"China Square\")\n",
        "\n",
        "tweets = []\n",
        "\n",
        "#Control structure to get tweet info with a count of 100\n",
        "for i, tweet in enumerate(scrapper.get_items()):\n",
        "        data = [\n",
        "            tweet.id,\n",
        "            tweet.date,\n",
        "            tweet.rawContent,\n",
        "            tweet.likeCount,\n",
        "            tweet.retweetCount\n",
        "        ]\n",
        "        tweets.append(data)\n",
        "        if i > 100:\n",
        "          break \n",
        "print(len(tweets))"
      ]
    },
    {
      "cell_type": "code",
      "execution_count": null,
      "metadata": {
        "id": "VNWHDXjkrqqm"
      },
      "outputs": [],
      "source": [
        "#Convert to a data frame\n",
        "tweet_DF = pd.DataFrame(tweets, columns = ['tweetID','date','content','likeCount','retweetCount'])\n",
        "\n"
      ]
    },
    {
      "cell_type": "code",
      "execution_count": null,
      "metadata": {
        "id": "DbwJs95jrtnX"
      },
      "outputs": [],
      "source": [
        "#Save as a csv file\n",
        "tweet_DF.to_csv('Fogo_Tweets.csv')"
      ]
    }
  ],
  "metadata": {
    "colab": {
      "authorship_tag": "ABX9TyMdQYjDOCTZPrVyWgOzJ0qA",
      "include_colab_link": true,
      "provenance": []
    },
    "kernelspec": {
      "display_name": "Python 3",
      "language": "python",
      "name": "python3"
    },
    "language_info": {
      "codemirror_mode": {
        "name": "ipython",
        "version": 3
      },
      "file_extension": ".py",
      "mimetype": "text/x-python",
      "name": "python",
      "nbconvert_exporter": "python",
      "pygments_lexer": "ipython3",
      "version": "3.10.10"
    },
    "vscode": {
      "interpreter": {
        "hash": "b828dfd4506b2e1aa71397299e731c66a539bdd537355f60add9e3773ab39bad"
      }
    }
  },
  "nbformat": 4,
  "nbformat_minor": 0
}
